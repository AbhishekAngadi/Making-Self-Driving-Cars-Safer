{
 "cells": [
  {
   "cell_type": "code",
   "execution_count": 112,
   "metadata": {},
   "outputs": [],
   "source": [
    "path_test = '~/Documents/MIDS/ECE590-60/Project/repo/socialLSTM/social-lstm/data/test/final/'\n",
    "path_train = '~/Documents/MIDS/ECE590-60/Project/repo/socialLSTM/social-lstm/data/train/final/'"
   ]
  },
  {
   "cell_type": "code",
   "execution_count": 1,
   "metadata": {},
   "outputs": [],
   "source": [
    "import pickle\n",
    "import pandas as pd\n",
    "import numpy as np\n",
    "test = pd.read_pickle(\"/home/azucena/Documents/MIDS/ECE590-60/Project/repo/socialLSTMproj/SocialLSTM/data/Final Data/test_dataframe.pkl\")\n",
    "train = pd.read_pickle(\"/home/azucena/Documents/MIDS/ECE590-60/Project/repo/socialLSTMproj/SocialLSTM/data/Final Data/train_dataframe.pkl\")"
   ]
  },
  {
   "cell_type": "code",
   "execution_count": 38,
   "metadata": {},
   "outputs": [],
   "source": [
    "test.loc[(test.index % 20)>=12,['x','y']] = '?' #Format required"
   ]
  },
  {
   "cell_type": "code",
   "execution_count": 40,
   "metadata": {},
   "outputs": [],
   "source": [
    "colnames = ['frame','pedestrian_ID','x','y']"
   ]
  },
  {
   "cell_type": "code",
   "execution_count": 41,
   "metadata": {},
   "outputs": [],
   "source": [
    "path_test = '/home/azucena/Documents/MIDS/ECE590-60/Project/repo/socialLSTM/social-lstm/data/test/final/'\n",
    "path_train = '/home/azucena/Documents/MIDS/ECE590-60/Project/repo/socialLSTM/social-lstm/data/train/final/'"
   ]
  },
  {
   "cell_type": "code",
   "execution_count": 42,
   "metadata": {},
   "outputs": [],
   "source": [
    "test_grouped = test.groupby('dataset_ID')\n",
    "train_grouped = train.groupby('dataset_ID')"
   ]
  },
  {
   "cell_type": "code",
   "execution_count": 43,
   "metadata": {},
   "outputs": [],
   "source": [
    "for group_name, df_group in test_grouped:    \n",
    "    df_group[colnames].to_csv(path_test+'test_'+str(group_name)+'.txt',\n",
    "                              sep=' ', \n",
    "                              index=False,\n",
    "                             header = False)"
   ]
  },
  {
   "cell_type": "code",
   "execution_count": 118,
   "metadata": {},
   "outputs": [],
   "source": [
    "for group_name, df_group in train_grouped:\n",
    "    df_group[colnames].to_csv(path_train+'train_'+str(group_name)+'.txt',\n",
    "                              sep=' ', \n",
    "                              index=False,\n",
    "                             header = False)"
   ]
  },
  {
   "cell_type": "markdown",
   "metadata": {},
   "source": [
    "# Testing "
   ]
  },
  {
   "cell_type": "code",
   "execution_count": 55,
   "metadata": {},
   "outputs": [],
   "source": [
    "import glob\n",
    "import pandas as pd"
   ]
  },
  {
   "cell_type": "code",
   "execution_count": 74,
   "metadata": {},
   "outputs": [],
   "source": [
    "from sklearn.metrics import mean_squared_error,mean_absolute_error\n",
    "import numpy as np\n",
    "\n",
    "def calcRMSE(true,pred):\n",
    "    return np.sqrt(mean_squared_error(true, pred))\n",
    "\n",
    "def calcMAE(true,pred):\n",
    "    return mean_absolute_error(true, pred)"
   ]
  },
  {
   "cell_type": "code",
   "execution_count": 128,
   "metadata": {},
   "outputs": [],
   "source": [
    "path_result = '/home/azucena/Documents/MIDS/ECE590-60/Project/repo/socialLSTM/social-lstm/result'\n",
    "path_test = '/home/azucena/Documents/MIDS/ECE590-60/Project/repo/socialLSTM/social-lstm/data/test/original/'"
   ]
  },
  {
   "cell_type": "code",
   "execution_count": 129,
   "metadata": {},
   "outputs": [],
   "source": [
    "test_files = [f for f in glob.glob(path_test + \"*.txt\", recursive=False)]"
   ]
  },
  {
   "cell_type": "code",
   "execution_count": 130,
   "metadata": {},
   "outputs": [],
   "source": [
    "model = \"/VANILLALSTM/LSTM/final/\""
   ]
  },
  {
   "cell_type": "code",
   "execution_count": 131,
   "metadata": {},
   "outputs": [],
   "source": [
    "result_files = [f for f in glob.glob(path_result + model + \"*.txt\", recursive=False)]"
   ]
  },
  {
   "cell_type": "code",
   "execution_count": 132,
   "metadata": {},
   "outputs": [],
   "source": [
    "pred_df_list = []\n",
    "for i,_ in enumerate(result_files):\n",
    "    pred_df_list.append(pd.read_csv(result_files[i], header = None, sep=' '))\n",
    "\n",
    "test_df_list = []\n",
    "for i,_ in enumerate(test_files):\n",
    "    test_df_list.append(pd.read_csv(test_files[i], header = None, sep=' '))"
   ]
  },
  {
   "cell_type": "code",
   "execution_count": 133,
   "metadata": {},
   "outputs": [],
   "source": [
    "pred_df_vanilla = pd.concat(pred_df_list)\n",
    "test_df_vanilla = pd.concat(test_df_list)"
   ]
  },
  {
   "cell_type": "code",
   "execution_count": 134,
   "metadata": {},
   "outputs": [],
   "source": [
    "pred_df_vanilla.columns = ['frame_id','ped_id','x','y']\n",
    "test_df_vanilla.columns = ['frame_id','ped_id','x','y']"
   ]
  },
  {
   "cell_type": "code",
   "execution_count": 135,
   "metadata": {},
   "outputs": [],
   "source": [
    "model = \"/SOCIALLSTM/LSTM/final/\""
   ]
  },
  {
   "cell_type": "code",
   "execution_count": 136,
   "metadata": {},
   "outputs": [],
   "source": [
    "result_files = [f for f in glob.glob(path_result + model + \"*.txt\", recursive=False)]"
   ]
  },
  {
   "cell_type": "code",
   "execution_count": 137,
   "metadata": {},
   "outputs": [],
   "source": [
    "pred_df_list = []\n",
    "for i,_ in enumerate(result_files):\n",
    "    pred_df_list.append(pd.read_csv(result_files[i], header = None, sep=' '))\n",
    "\n",
    "test_df_list = []\n",
    "for i,_ in enumerate(test_files):\n",
    "    test_df_list.append(pd.read_csv(test_files[i], header = None, sep=' '))"
   ]
  },
  {
   "cell_type": "code",
   "execution_count": 138,
   "metadata": {},
   "outputs": [],
   "source": [
    "pred_df_social = pd.concat(pred_df_list)\n",
    "test_df_social= pd.concat(test_df_list)"
   ]
  },
  {
   "cell_type": "code",
   "execution_count": 139,
   "metadata": {},
   "outputs": [],
   "source": [
    "pred_df_social.columns = ['frame_id','ped_id','x','y']\n",
    "test_df_social.columns = ['frame_id','ped_id','x','y']"
   ]
  },
  {
   "cell_type": "markdown",
   "metadata": {},
   "source": [
    "One Step Prediction"
   ]
  },
  {
   "cell_type": "code",
   "execution_count": 140,
   "metadata": {},
   "outputs": [],
   "source": [
    "test = test_df_vanilla.loc[(test_df_vanilla.index % 20)==12,['x','y']]\n",
    "pred = pred_df_vanilla.loc[(test_df_vanilla.index % 20)==12,['x','y']]"
   ]
  },
  {
   "cell_type": "code",
   "execution_count": 141,
   "metadata": {},
   "outputs": [
    {
     "data": {
      "text/plain": [
       "0.4398914593566788"
      ]
     },
     "execution_count": 141,
     "metadata": {},
     "output_type": "execute_result"
    }
   ],
   "source": [
    "mean_absolute_error(test, pred)"
   ]
  },
  {
   "cell_type": "code",
   "execution_count": 142,
   "metadata": {},
   "outputs": [
    {
     "data": {
      "text/plain": [
       "0.929565690012709"
      ]
     },
     "execution_count": 142,
     "metadata": {},
     "output_type": "execute_result"
    }
   ],
   "source": [
    "np.sqrt(mean_squared_error(test, pred))"
   ]
  },
  {
   "cell_type": "code",
   "execution_count": 143,
   "metadata": {},
   "outputs": [],
   "source": [
    "test = test_df_social.loc[(test_df_social.index % 20)==12,['x','y']]\n",
    "pred = pred_df_social.loc[(test_df_social.index % 20)==12,['x','y']]"
   ]
  },
  {
   "cell_type": "code",
   "execution_count": 144,
   "metadata": {},
   "outputs": [
    {
     "data": {
      "text/plain": [
       "0.4211136111551259"
      ]
     },
     "execution_count": 144,
     "metadata": {},
     "output_type": "execute_result"
    }
   ],
   "source": [
    "mean_absolute_error(test, pred)"
   ]
  },
  {
   "cell_type": "code",
   "execution_count": 145,
   "metadata": {},
   "outputs": [
    {
     "data": {
      "text/plain": [
       "0.8931144771748182"
      ]
     },
     "execution_count": 145,
     "metadata": {},
     "output_type": "execute_result"
    }
   ],
   "source": [
    "np.sqrt(mean_squared_error(test, pred))"
   ]
  },
  {
   "cell_type": "markdown",
   "metadata": {},
   "source": [
    "Multiple Step Prediction"
   ]
  },
  {
   "cell_type": "code",
   "execution_count": 146,
   "metadata": {},
   "outputs": [],
   "source": [
    "test = test_df_vanilla.loc[(test_df_vanilla.index % 20)>=12,['x','y']]\n",
    "pred = pred_df_vanilla.loc[(test_df_vanilla.index % 20)>=12,['x','y']]"
   ]
  },
  {
   "cell_type": "code",
   "execution_count": 147,
   "metadata": {},
   "outputs": [
    {
     "data": {
      "text/plain": [
       "0.8321567798288703"
      ]
     },
     "execution_count": 147,
     "metadata": {},
     "output_type": "execute_result"
    }
   ],
   "source": [
    "mean_absolute_error(test, pred)"
   ]
  },
  {
   "cell_type": "code",
   "execution_count": 148,
   "metadata": {},
   "outputs": [
    {
     "data": {
      "text/plain": [
       "1.6050685652217924"
      ]
     },
     "execution_count": 148,
     "metadata": {},
     "output_type": "execute_result"
    }
   ],
   "source": [
    "np.sqrt(mean_squared_error(test, pred))"
   ]
  },
  {
   "cell_type": "code",
   "execution_count": 149,
   "metadata": {},
   "outputs": [],
   "source": [
    "test = test_df_social.loc[(test_df_social.index % 20)>=12,['x','y']]\n",
    "pred = pred_df_social.loc[(test_df_social.index % 20)>=12,['x','y']]"
   ]
  },
  {
   "cell_type": "code",
   "execution_count": 150,
   "metadata": {},
   "outputs": [
    {
     "data": {
      "text/plain": [
       "0.8056862719854222"
      ]
     },
     "execution_count": 150,
     "metadata": {},
     "output_type": "execute_result"
    }
   ],
   "source": [
    "mean_absolute_error(test, pred)"
   ]
  }
 ],
 "metadata": {
  "kernelspec": {
   "display_name": "Python 3",
   "language": "python",
   "name": "python3"
  },
  "language_info": {
   "codemirror_mode": {
    "name": "ipython",
    "version": 3
   },
   "file_extension": ".py",
   "mimetype": "text/x-python",
   "name": "python",
   "nbconvert_exporter": "python",
   "pygments_lexer": "ipython3",
   "version": "3.7.3"
  }
 },
 "nbformat": 4,
 "nbformat_minor": 4
}
